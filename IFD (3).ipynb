{
  "cells": [
    {
      "cell_type": "code",
      "execution_count": null,
      "metadata": {
        "colab": {
          "base_uri": "https://localhost:8080/"
        },
        "id": "1ZT9NEX2QN_I",
        "outputId": "35b2be69-d528-4ff6-f165-a546728ff8a4"
      },
      "outputs": [
        {
          "output_type": "stream",
          "name": "stdout",
          "text": [
            "Mounted at /content/drive\n"
          ]
        }
      ],
      "source": [
        "from google.colab import drive\n",
        "drive.mount('/content/drive')"
      ]
    },
    {
      "cell_type": "code",
      "execution_count": null,
      "metadata": {
        "id": "_aoO0GiVMQ_t"
      },
      "outputs": [],
      "source": [
        "!pip install numpy tensorflow keras"
      ]
    },
    {
      "cell_type": "code",
      "execution_count": null,
      "metadata": {
        "id": "rvkIldSgYE-f",
        "colab": {
          "base_uri": "https://localhost:8080/"
        },
        "outputId": "ed31c9eb-46ab-43ba-dfbd-50bd714f4946"
      },
      "outputs": [
        {
          "output_type": "stream",
          "name": "stdout",
          "text": [
            "Collecting efficientnet\n",
            "  Downloading efficientnet-1.1.1-py3-none-any.whl (18 kB)\n",
            "Collecting keras-applications<=1.0.8,>=1.0.7 (from efficientnet)\n",
            "  Downloading Keras_Applications-1.0.8-py3-none-any.whl (50 kB)\n",
            "\u001b[2K     \u001b[90m━━━━━━━━━━━━━━━━━━━━━━━━━━━━━━━━━━━━━━━━\u001b[0m \u001b[32m50.7/50.7 kB\u001b[0m \u001b[31m2.3 MB/s\u001b[0m eta \u001b[36m0:00:00\u001b[0m\n",
            "\u001b[?25hRequirement already satisfied: scikit-image in /usr/local/lib/python3.10/dist-packages (from efficientnet) (0.19.3)\n",
            "Requirement already satisfied: numpy>=1.9.1 in /usr/local/lib/python3.10/dist-packages (from keras-applications<=1.0.8,>=1.0.7->efficientnet) (1.23.5)\n",
            "Requirement already satisfied: h5py in /usr/local/lib/python3.10/dist-packages (from keras-applications<=1.0.8,>=1.0.7->efficientnet) (3.9.0)\n",
            "Requirement already satisfied: scipy>=1.4.1 in /usr/local/lib/python3.10/dist-packages (from scikit-image->efficientnet) (1.11.4)\n",
            "Requirement already satisfied: networkx>=2.2 in /usr/local/lib/python3.10/dist-packages (from scikit-image->efficientnet) (3.2.1)\n",
            "Requirement already satisfied: pillow!=7.1.0,!=7.1.1,!=8.3.0,>=6.1.0 in /usr/local/lib/python3.10/dist-packages (from scikit-image->efficientnet) (9.4.0)\n",
            "Requirement already satisfied: imageio>=2.4.1 in /usr/local/lib/python3.10/dist-packages (from scikit-image->efficientnet) (2.31.6)\n",
            "Requirement already satisfied: tifffile>=2019.7.26 in /usr/local/lib/python3.10/dist-packages (from scikit-image->efficientnet) (2024.1.30)\n",
            "Requirement already satisfied: PyWavelets>=1.1.1 in /usr/local/lib/python3.10/dist-packages (from scikit-image->efficientnet) (1.5.0)\n",
            "Requirement already satisfied: packaging>=20.0 in /usr/local/lib/python3.10/dist-packages (from scikit-image->efficientnet) (23.2)\n",
            "Installing collected packages: keras-applications, efficientnet\n",
            "Successfully installed efficientnet-1.1.1 keras-applications-1.0.8\n"
          ]
        }
      ],
      "source": [
        "!pip install efficientnet"
      ]
    },
    {
      "cell_type": "code",
      "execution_count": null,
      "metadata": {
        "colab": {
          "base_uri": "https://localhost:8080/"
        },
        "id": "-GYBj23DQZrN",
        "outputId": "2aaf216a-d662-4b90-ec38-3de6f6c0941b"
      },
      "outputs": [
        {
          "output_type": "stream",
          "name": "stdout",
          "text": [
            "Found 180 images belonging to 3 classes.\n",
            "Found 180 images belonging to 3 classes.\n",
            "Epoch 1/10\n",
            "6/6 [==============================] - 163s 26s/step - loss: 0.4517 - accuracy: 0.7611 - val_loss: 0.9226 - val_accuracy: 0.8000\n",
            "Epoch 2/10\n",
            "6/6 [==============================] - 63s 11s/step - loss: 0.0392 - accuracy: 0.9833 - val_loss: 0.8809 - val_accuracy: 0.8500\n",
            "Epoch 3/10\n",
            "6/6 [==============================] - 64s 11s/step - loss: 0.0614 - accuracy: 0.9833 - val_loss: 1.0500 - val_accuracy: 0.8611\n",
            "Epoch 4/10\n",
            "6/6 [==============================] - 54s 9s/step - loss: 0.0671 - accuracy: 0.9778 - val_loss: 1.0681 - val_accuracy: 0.8722\n",
            "Epoch 5/10\n",
            "6/6 [==============================] - 54s 9s/step - loss: 0.1395 - accuracy: 0.9722 - val_loss: 0.5748 - val_accuracy: 0.9333\n",
            "Epoch 6/10\n",
            "6/6 [==============================] - 54s 9s/step - loss: 0.0281 - accuracy: 0.9889 - val_loss: 0.4244 - val_accuracy: 0.9722\n",
            "Epoch 7/10\n",
            "6/6 [==============================] - 63s 11s/step - loss: 0.0166 - accuracy: 0.9944 - val_loss: 0.3162 - val_accuracy: 0.9611\n",
            "Epoch 8/10\n",
            "6/6 [==============================] - 51s 8s/step - loss: 0.0220 - accuracy: 0.9944 - val_loss: 0.2544 - val_accuracy: 0.9500\n",
            "Epoch 9/10\n",
            "6/6 [==============================] - 49s 8s/step - loss: 0.0032 - accuracy: 1.0000 - val_loss: 0.2565 - val_accuracy: 0.9444\n",
            "Epoch 10/10\n",
            "6/6 [==============================] - 50s 9s/step - loss: 0.0105 - accuracy: 0.9944 - val_loss: 0.3004 - val_accuracy: 0.9222\n",
            "6/6 [==============================] - 14s 2s/step - loss: 0.3004 - accuracy: 0.9222\n",
            "Validation Loss: 0.300353467464447\n",
            "Validation Accuracy: 0.9222221970558167\n"
          ]
        },
        {
          "output_type": "stream",
          "name": "stderr",
          "text": [
            "/usr/local/lib/python3.10/dist-packages/keras/src/engine/training.py:3103: UserWarning: You are saving your model as an HDF5 file via `model.save()`. This file format is considered legacy. We recommend using instead the native Keras format, e.g. `model.save('my_model.keras')`.\n",
            "  saving_api.save_model(\n"
          ]
        }
      ],
      "source": [
        "import tensorflow as tf\n",
        "from tensorflow.keras.layers import Dense, GlobalAveragePooling2D\n",
        "from tensorflow.keras.models import Model\n",
        "from tensorflow.keras.optimizers import Adam\n",
        "from tensorflow.keras.preprocessing.image import ImageDataGenerator\n",
        "from efficientnet.tfkeras import EfficientNetB0\n",
        "\n",
        "# Define directory locations and other parameters\n",
        "train_data_dir = '/content/drive/MyDrive/Dataset/Train'\n",
        "validation_data_dir = '/content/drive/MyDrive/Dataset/Test'\n",
        "num_classes = 3  # Number of classes (2 for binary classification)\n",
        "batch_size = 32\n",
        "epochs = 10\n",
        "\n",
        "# Load the pre-trained EfficientNetB0 model\n",
        "base_model = EfficientNetB0(weights='imagenet', include_top=False, input_shape=(224, 224, 3))\n",
        "\n",
        "# Add custom classification layers on top of the pre-trained model\n",
        "x = base_model.output\n",
        "x = GlobalAveragePooling2D()(x)\n",
        "x = Dense(1024, activation='relu')(x)\n",
        "predictions = Dense(num_classes, activation='softmax')(x)\n",
        "\n",
        "# Combine the base model with the custom layers\n",
        "model = Model(inputs=base_model.input, outputs=predictions)\n",
        "\n",
        "# Compile the model and specify metrics\n",
        "optimizer = Adam(learning_rate=0.001)\n",
        "model.compile(optimizer=optimizer, loss='categorical_crossentropy', metrics=['accuracy'])\n",
        "\n",
        "# Define ImageDataGenerator for training and validation data\n",
        "train_datagen = ImageDataGenerator(rescale=1./255)\n",
        "train_generator = train_datagen.flow_from_directory(train_data_dir, target_size=(224, 224), batch_size=batch_size, class_mode='categorical')\n",
        "\n",
        "validation_datagen = ImageDataGenerator(rescale=1./255)\n",
        "validation_generator = validation_datagen.flow_from_directory(validation_data_dir, target_size=(224, 224), batch_size=batch_size, class_mode='categorical')\n",
        "\n",
        "# Train the model\n",
        "model.fit(train_generator, epochs=epochs, validation_data=validation_generator)\n",
        "\n",
        "# Evaluate the model\n",
        "loss, accuracy = model.evaluate(validation_generator)\n",
        "print(\"Validation Loss:\", loss)\n",
        "print(\"Validation Accuracy:\", accuracy)\n",
        "\n",
        "# Save the trained model\n",
        "model.save(\"/content/Model/ImageForgeryDetection.h5\")"
      ]
    },
    {
      "cell_type": "code",
      "execution_count": null,
      "metadata": {
        "colab": {
          "base_uri": "https://localhost:8080/"
        },
        "id": "afAsmkWIuZiQ",
        "outputId": "aee5903e-6ae8-4244-87c5-7fe0233885a9"
      },
      "outputs": [
        {
          "output_type": "stream",
          "name": "stdout",
          "text": [
            "1/1 [==============================] - 2s 2s/step\n",
            "Prediction: Authentic\n"
          ]
        }
      ],
      "source": [
        "import tensorflow as tf\n",
        "from tensorflow.keras.models import load_model\n",
        "from tensorflow.keras.preprocessing import image\n",
        "import numpy as np\n",
        "# Define the custom layer\n",
        "class FixedDropout(tf.keras.layers.Layer):\n",
        "    def __init__(self, rate, **kwargs):\n",
        "        super(FixedDropout, self).__init__(**kwargs)\n",
        "        self.rate = rate\n",
        "\n",
        "    def call(self, inputs, training=None):\n",
        "        if training:\n",
        "            return tf.nn.dropout(inputs, rate=self.rate)\n",
        "        return inputs\n",
        "\n",
        "    def get_config(self):\n",
        "        config = super(FixedDropout, self).get_config()\n",
        "        config.update({'rate': self.rate})\n",
        "        return config\n",
        "\n",
        "# Load the model within the custom object scope\n",
        "with tf.keras.utils.custom_object_scope({'FixedDropout': FixedDropout}):\n",
        "    model = load_model('/content/Model/ImageForgeryDetection.h5')\n",
        "\n",
        "\n",
        "# Function to preprocess the image\n",
        "def preprocess_image(image_path):\n",
        "    img = image.load_img(image_path, target_size=(224, 224))  # Adjust target size as per your model\n",
        "    img_array = image.img_to_array(img)\n",
        "    img_array = np.expand_dims(img_array, axis=0)\n",
        "    return img_array\n",
        "\n",
        "# Function to make prediction\n",
        "def predict_image(image_path):\n",
        "    img_array = preprocess_image(image_path)\n",
        "    prediction = model.predict(img_array)\n",
        "    if prediction[0][0] > 0.5:  # Assuming the model returns a probability for class 1\n",
        "        return \"Forged\"\n",
        "    else:\n",
        "        return \"Authentic\"\n",
        "\n",
        "# Path to the image you want to predict\n",
        "image_path = '/content/InputData/Tp_D_CND_S_N_txt00028_txt00006_10848.jpg'\n",
        "\n",
        "# Perform prediction\n",
        "prediction = predict_image(image_path)\n",
        "print(\"Prediction:\", prediction)\n",
        "\n"
      ]
    },
    {
      "cell_type": "code",
      "execution_count": null,
      "metadata": {
        "id": "wjM9gxxXu3nI"
      },
      "outputs": [],
      "source": []
    }
  ],
  "metadata": {
    "colab": {
      "provenance": []
    },
    "kernelspec": {
      "display_name": "Python 3",
      "name": "python3"
    },
    "language_info": {
      "name": "python"
    }
  },
  "nbformat": 4,
  "nbformat_minor": 0
}